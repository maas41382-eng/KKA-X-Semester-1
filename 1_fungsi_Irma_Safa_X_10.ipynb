{
  "nbformat": 4,
  "nbformat_minor": 0,
  "metadata": {
    "colab": {
      "provenance": [],
      "authorship_tag": "ABX9TyO/Q1gPLGphsF7FG7svHNsi",
      "include_colab_link": true
    },
    "kernelspec": {
      "name": "python3",
      "display_name": "Python 3"
    },
    "language_info": {
      "name": "python"
    }
  },
  "cells": [
    {
      "cell_type": "markdown",
      "metadata": {
        "id": "view-in-github",
        "colab_type": "text"
      },
      "source": [
        "<a href=\"https://colab.research.google.com/github/maas41382-eng/KKA-X-Semester-1/blob/main/1_fungsi_Irma_Safa_X_10.ipynb\" target=\"_parent\"><img src=\"https://colab.research.google.com/assets/colab-badge.svg\" alt=\"Open In Colab\"/></a>"
      ]
    },
    {
      "cell_type": "markdown",
      "source": [
        "Menampilkan Text Bebas"
      ],
      "metadata": {
        "id": "4GC9bXKfU3Qk"
      }
    },
    {
      "cell_type": "code",
      "source": [
        "print (\"Irma Safa rubianti\")"
      ],
      "metadata": {
        "colab": {
          "base_uri": "https://localhost:8080/"
        },
        "id": "qFO_d2BbUzKu",
        "outputId": "72e3cccf-9784-446f-98b6-2f7f381ff105"
      },
      "execution_count": null,
      "outputs": [
        {
          "output_type": "stream",
          "name": "stdout",
          "text": [
            "Irma Safa rubianti\n"
          ]
        }
      ]
    },
    {
      "cell_type": "code",
      "source": [
        "print (\"Timothy\")"
      ],
      "metadata": {
        "colab": {
          "base_uri": "https://localhost:8080/"
        },
        "id": "NMvvTL5rVHcD",
        "outputId": "b56f9d05-6a6e-4bbf-863b-9a3792809b39"
      },
      "execution_count": null,
      "outputs": [
        {
          "output_type": "stream",
          "name": "stdout",
          "text": [
            "Timothy\n"
          ]
        }
      ]
    },
    {
      "cell_type": "markdown",
      "source": [
        "Menampilkan Nilai Variabel"
      ],
      "metadata": {
        "id": "UT7UMhawVmrM"
      }
    },
    {
      "cell_type": "code",
      "source": [
        "usia = 16\n",
        "print ( usia)"
      ],
      "metadata": {
        "colab": {
          "base_uri": "https://localhost:8080/"
        },
        "id": "eRYTyv_FVvlo",
        "outputId": "fac8af6b-0a56-46dc-a084-6785433aa292"
      },
      "execution_count": null,
      "outputs": [
        {
          "output_type": "stream",
          "name": "stdout",
          "text": [
            "16\n"
          ]
        }
      ]
    },
    {
      "cell_type": "code",
      "source": [
        "namaSaudara =\"Nafisa fajar Kirana\"\n",
        "print(namaSaudara)"
      ],
      "metadata": {
        "colab": {
          "base_uri": "https://localhost:8080/"
        },
        "id": "xdbyA0fRWCrM",
        "outputId": "bd4a6fad-8ea8-419c-ea51-7f9481e0d4ed"
      },
      "execution_count": null,
      "outputs": [
        {
          "output_type": "stream",
          "name": "stdout",
          "text": [
            "Nafisa fajar Kirana\n"
          ]
        }
      ]
    },
    {
      "cell_type": "code",
      "source": [
        "matapelajaranFavorit = \"bahasa Indonesia, sosiologi\"\n",
        "print (matapelajaranFavorit)"
      ],
      "metadata": {
        "colab": {
          "base_uri": "https://localhost:8080/"
        },
        "id": "O86bmZ7TWm8s",
        "outputId": "cc926903-e19e-4392-9e3e-b3346de1b516"
      },
      "execution_count": null,
      "outputs": [
        {
          "output_type": "stream",
          "name": "stdout",
          "text": [
            "bahasa Indonesia, sosiologi\n"
          ]
        }
      ]
    },
    {
      "cell_type": "markdown",
      "source": [
        "Menampilkan Text Bebas dan Nilai Variabel"
      ],
      "metadata": {
        "id": "oxleTSj0XWHY"
      }
    },
    {
      "cell_type": "code",
      "source": [
        "namaSaudara= \"Nafisa fajar Kirana\"\n",
        "print (\"nama saudara:\" + namaSaudara)"
      ],
      "metadata": {
        "colab": {
          "base_uri": "https://localhost:8080/"
        },
        "id": "jQihzH7HhjZA",
        "outputId": "31bdbfab-de90-42ee-e6c8-474b53312fee"
      },
      "execution_count": null,
      "outputs": [
        {
          "output_type": "stream",
          "name": "stdout",
          "text": [
            "nama saudara:Nafisa fajar Kirana\n"
          ]
        }
      ]
    },
    {
      "cell_type": "code",
      "source": [
        "nama_panggilan_siswa = \"irma\"\n",
        "print(\"Nama panggilan siswa tersebut adalah\", nama_panggilan_siswa) #sudah ada spasinya"
      ],
      "metadata": {
        "colab": {
          "base_uri": "https://localhost:8080/"
        },
        "id": "7v3PuKMef-V7",
        "outputId": "7043287a-7646-4e6a-af18-b441f2cc55f7"
      },
      "execution_count": null,
      "outputs": [
        {
          "output_type": "stream",
          "name": "stdout",
          "text": [
            "Nama panggilan siswa tersebut adalah irma\n"
          ]
        }
      ]
    },
    {
      "cell_type": "code",
      "source": [
        "print(f\"Nama panggilan siswa tersebut adalah {nama_panggilan_siswa} loh\")"
      ],
      "metadata": {
        "colab": {
          "base_uri": "https://localhost:8080/"
        },
        "id": "jF5WeS9Rf_3N",
        "outputId": "586030ef-5dda-439c-8f14-c7d986ab9886"
      },
      "execution_count": null,
      "outputs": [
        {
          "output_type": "stream",
          "name": "stdout",
          "text": [
            "Nama panggilan siswa tersebut adalah irma loh\n"
          ]
        }
      ]
    },
    {
      "cell_type": "markdown",
      "source": [
        "Escape Character"
      ],
      "metadata": {
        "id": "oZS4rLu_i5Gn"
      }
    },
    {
      "cell_type": "code",
      "source": [
        "print(\"Nama: Irma Safa rubianti\")\n",
        "print(\"kelas: X.10\")\n",
        "print(\"No absen:10\")"
      ],
      "metadata": {
        "id": "L-DGayASqz24",
        "colab": {
          "base_uri": "https://localhost:8080/"
        },
        "outputId": "d1db9446-04ed-4f13-b1fd-e4f928e794c8"
      },
      "execution_count": null,
      "outputs": [
        {
          "output_type": "stream",
          "name": "stdout",
          "text": [
            "Nama: Irma Safa rubianti\n",
            "kelas: X.10\n",
            "No absen:10\n"
          ]
        }
      ]
    },
    {
      "cell_type": "code",
      "source": [
        "print(\"Nama/t/t: Irma safa rubianti/nkelas/t/t/:10)X.10/nNo absen/t: 10\")"
      ],
      "metadata": {
        "id": "1sufeRsyvJAV",
        "colab": {
          "base_uri": "https://localhost:8080/"
        },
        "outputId": "c4178a6d-bbe9-487a-fda4-a95f3a800cd3"
      },
      "execution_count": null,
      "outputs": [
        {
          "output_type": "stream",
          "name": "stdout",
          "text": [
            "Nama/t/t: Irma safa rubianti/nkelas/t/t/:10)X.10/nNo absen/t: 10\n"
          ]
        }
      ]
    },
    {
      "cell_type": "code",
      "source": [
        "print(\"\"\"Nama: Irma Safa rubianti\n",
        " Kelas: X.10\n",
        " No absen:10\"\"\")"
      ],
      "metadata": {
        "id": "g5kznGhpvs81",
        "outputId": "2e7cb5d2-1ea3-40b2-e27d-a89a0f2acea2",
        "colab": {
          "base_uri": "https://localhost:8080/"
        }
      },
      "execution_count": null,
      "outputs": [
        {
          "output_type": "stream",
          "name": "stdout",
          "text": [
            "Nama: Irma Safa rubianti\n",
            " Kelas: X.10\n",
            " No absen:10\n"
          ]
        }
      ]
    },
    {
      "cell_type": "code",
      "source": [
        "print('Ainun')"
      ],
      "metadata": {
        "id": "Abw49Vlfyzm9",
        "outputId": "5d5dba89-6d40-4a60-a18f-0d0aac9508d7",
        "colab": {
          "base_uri": "https://localhost:8080/"
        }
      },
      "execution_count": null,
      "outputs": [
        {
          "output_type": "stream",
          "name": "stdout",
          "text": [
            "Ainun\n"
          ]
        }
      ]
    },
    {
      "cell_type": "code",
      "source": [
        "print(\"A'inun\")"
      ],
      "metadata": {
        "colab": {
          "base_uri": "https://localhost:8080/"
        },
        "id": "PFIlpHoFW1Lk",
        "outputId": "fcd2db76-94b8-4e05-f0e5-ed06eb24ab3f"
      },
      "execution_count": null,
      "outputs": [
        {
          "output_type": "stream",
          "name": "stdout",
          "text": [
            "A'inun\n"
          ]
        }
      ]
    },
    {
      "cell_type": "code",
      "source": [
        "print ('A\\'inun')"
      ],
      "metadata": {
        "colab": {
          "base_uri": "https://localhost:8080/"
        },
        "id": "UCbxMtYGXDdu",
        "outputId": "7d02343d-2b07-431a-c88f-6e608395b2e1"
      },
      "execution_count": null,
      "outputs": [
        {
          "output_type": "stream",
          "name": "stdout",
          "text": [
            "A'inun\n"
          ]
        }
      ]
    },
    {
      "cell_type": "code",
      "source": [
        "print (\"Bu Shinta berkata,/Makan sosis so nice\\\" \")"
      ],
      "metadata": {
        "id": "GJFO4jMwXhN3",
        "outputId": "dfb9dc7d-fc95-4b89-f0e9-09f7d99df526",
        "colab": {
          "base_uri": "https://localhost:8080/"
        }
      },
      "execution_count": null,
      "outputs": [
        {
          "output_type": "stream",
          "name": "stdout",
          "text": [
            "Bu Shinta berkata,/Makan sosis so nice\" \n"
          ]
        }
      ]
    },
    {
      "cell_type": "code",
      "source": [
        "print ('Bu Shinta berkata,\"Makan sosis so nice\" ')"
      ],
      "metadata": {
        "id": "bWTdzAdbYZZb",
        "outputId": "51a78bd3-7233-4f64-e3f4-d611ea6f9a2d",
        "colab": {
          "base_uri": "https://localhost:8080/"
        }
      },
      "execution_count": null,
      "outputs": [
        {
          "output_type": "stream",
          "name": "stdout",
          "text": [
            "Bu Shinta berkata,\"Makan sosis so nice\" \n"
          ]
        }
      ]
    },
    {
      "cell_type": "markdown",
      "source": [
        "parameter fungsi print"
      ],
      "metadata": {
        "id": "HI-aLD6AYutp"
      }
    },
    {
      "cell_type": "code",
      "source": [
        "Namasiswa1=\"Irma\"\n",
        "Namasiswa2=\"Safa\""
      ],
      "metadata": {
        "id": "s_GbkT8QY13W"
      },
      "execution_count": null,
      "outputs": []
    },
    {
      "cell_type": "code",
      "source": [
        "print (Namasiswa1, Namasiswa2)"
      ],
      "metadata": {
        "colab": {
          "base_uri": "https://localhost:8080/"
        },
        "id": "-pgA2UtcZMSC",
        "outputId": "e20fa7e6-aecb-4b4c-9116-67c7fcd16b65"
      },
      "execution_count": null,
      "outputs": [
        {
          "output_type": "stream",
          "name": "stdout",
          "text": [
            "Irma Safa\n"
          ]
        }
      ]
    },
    {
      "cell_type": "code",
      "source": [
        "print (Namasiswa1,Namasiswa2,sep=\"-\")"
      ],
      "metadata": {
        "colab": {
          "base_uri": "https://localhost:8080/"
        },
        "id": "GKS3mTPnZgwM",
        "outputId": "92d9931a-2d7d-486b-d0c2-d75b0a7ee108"
      },
      "execution_count": null,
      "outputs": [
        {
          "output_type": "stream",
          "name": "stdout",
          "text": [
            "Irma-Safa\n"
          ]
        }
      ]
    },
    {
      "cell_type": "code",
      "source": [
        "print(Namasiswa1, end=\"*\")\n",
        "print (Namasiswa2)"
      ],
      "metadata": {
        "colab": {
          "base_uri": "https://localhost:8080/"
        },
        "id": "NOuwO9vxaKSl",
        "outputId": "311c9911-f9f7-4055-e979-af95038db263"
      },
      "execution_count": null,
      "outputs": [
        {
          "output_type": "stream",
          "name": "stdout",
          "text": [
            "Irma*Safa\n"
          ]
        }
      ]
    },
    {
      "cell_type": "code",
      "source": [
        "print (Namasiswa1, Namasiswa2, Namasiswa1,sep= \"_\")"
      ],
      "metadata": {
        "colab": {
          "base_uri": "https://localhost:8080/"
        },
        "id": "vspQvmCEZ2cy",
        "outputId": "2a513381-3ab7-478e-922f-c49b14cb7e6a"
      },
      "execution_count": null,
      "outputs": [
        {
          "output_type": "stream",
          "name": "stdout",
          "text": [
            "Irma_Safa_Irma\n"
          ]
        }
      ]
    },
    {
      "cell_type": "code",
      "source": [
        "print(Namasiswa1,Namasiswa2, Namasiswa1,sep=\"*\")"
      ],
      "metadata": {
        "colab": {
          "base_uri": "https://localhost:8080/"
        },
        "id": "bzJhcYFqa32g",
        "outputId": "72347727-47ba-4879-e0cc-e68b64c22e94"
      },
      "execution_count": null,
      "outputs": [
        {
          "output_type": "stream",
          "name": "stdout",
          "text": [
            "Irma*Safa*Irma\n"
          ]
        }
      ]
    }
  ]
}