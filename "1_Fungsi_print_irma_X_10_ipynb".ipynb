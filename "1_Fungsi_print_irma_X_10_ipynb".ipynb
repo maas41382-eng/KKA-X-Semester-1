{
  "nbformat": 4,
  "nbformat_minor": 0,
  "metadata": {
    "colab": {
      "provenance": [],
      "authorship_tag": "ABX9TyNXCidsPQmcvpkixe5Do/Rl",
      "include_colab_link": true
    },
    "kernelspec": {
      "name": "python3",
      "display_name": "Python 3"
    },
    "language_info": {
      "name": "python"
    }
  },
  "cells": [
    {
      "cell_type": "markdown",
      "metadata": {
        "id": "view-in-github",
        "colab_type": "text"
      },
      "source": [
        "<a href=\"https://colab.research.google.com/github/maas41382-eng/KKA-X-Semester-1/blob/main/%221_Fungsi_print_irma_X_10_ipynb%22.ipynb\" target=\"_parent\"><img src=\"https://colab.research.google.com/assets/colab-badge.svg\" alt=\"Open In Colab\"/></a>"
      ]
    },
    {
      "cell_type": "code",
      "execution_count": null,
      "metadata": {
        "colab": {
          "base_uri": "https://localhost:8080/"
        },
        "id": "HFDxyLst0gxC",
        "outputId": "8027dda3-60d4-46f1-8f9f-094087b95cee"
      },
      "outputs": [
        {
          "output_type": "stream",
          "name": "stdout",
          "text": [
            "Nama saudara: adek\n"
          ]
        }
      ],
      "source": [
        "namaSaudara = \"adek\"\n",
        "print (\"Nama saudara: \" + namaSaudara)"
      ]
    },
    {
      "cell_type": "code",
      "source": [
        "nama_panggilan_siswa = \"irma\"\n",
        "print(\"Nama panggilan siswa tersebut adalah\", nama_panggilan_siswa) #sudah ada spasinya"
      ],
      "metadata": {
        "colab": {
          "base_uri": "https://localhost:8080/"
        },
        "id": "7yIV9DMGCBM6",
        "outputId": "32178a53-a192-4520-927b-2e1463852ed6"
      },
      "execution_count": null,
      "outputs": [
        {
          "output_type": "stream",
          "name": "stdout",
          "text": [
            "Nama panggilan siswa tersebut adalah irma\n"
          ]
        }
      ]
    },
    {
      "cell_type": "code",
      "source": [
        "mata pelajaran favorit =b.indo\n",
        "print(\"mata pelajaran favorit\")"
      ],
      "metadata": {
        "colab": {
          "base_uri": "https://localhost:8080/",
          "height": 141
        },
        "id": "edxmvOwwQdKz",
        "outputId": "c78bbf71-4728-4046-80b6-8626b86a60c3"
      },
      "execution_count": null,
      "outputs": [
        {
          "output_type": "error",
          "ename": "SyntaxError",
          "evalue": "invalid syntax (ipython-input-3581043367.py, line 1)",
          "traceback": [
            "\u001b[0;36m  File \u001b[0;32m\"/tmp/ipython-input-3581043367.py\"\u001b[0;36m, line \u001b[0;32m1\u001b[0m\n\u001b[0;31m    mata pelajaran favorit =b.indo\u001b[0m\n\u001b[0m         ^\u001b[0m\n\u001b[0;31mSyntaxError\u001b[0m\u001b[0;31m:\u001b[0m invalid syntax\n"
          ]
        }
      ]
    },
    {
      "cell_type": "code",
      "source": [
        "print(f\"Namva panggilan siswa tersebut adalah {nama_panggilan_siswa} loh\")"
      ],
      "metadata": {
        "colab": {
          "base_uri": "https://localhost:8080/"
        },
        "id": "JrXRQ20ZC029",
        "outputId": "5f091183-6756-42b7-d5c2-4c6542a55edb"
      },
      "execution_count": null,
      "outputs": [
        {
          "output_type": "stream",
          "name": "stdout",
          "text": [
            "Nama panggilan siswa tersebut adalah irma loh\n"
          ]
        }
      ]
    },
    {
      "cell_type": "code",
      "source": [
        "print(\"Nama: Irma Safa rubianti\")\n",
        "print(\"kelas: X.10\")\n",
        "print(\"No absen:10\")"
      ],
      "metadata": {
        "colab": {
          "base_uri": "https://localhost:8080/"
        },
        "id": "VNiYOCtEFFRp",
        "outputId": "6a564337-4de5-4c57-a995-bdc614f40c20"
      },
      "execution_count": null,
      "outputs": [
        {
          "output_type": "stream",
          "name": "stdout",
          "text": [
            "Nama: Irma Safa rubianti\n",
            "kelas: X.10\n",
            "No absen:9\n"
          ]
        }
      ]
    },
    {
      "cell_type": "code",
      "source": [
        "print(\"Nama/t/t: Irma safa rubianti/nkelas/t/t/:10)X.10/nNo absen/t: 10\")"
      ],
      "metadata": {
        "id": "D_nTYG4lGErL",
        "colab": {
          "base_uri": "https://localhost:8080/"
        },
        "outputId": "bf754d2d-27ed-462e-c6be-07631e91a60a"
      },
      "execution_count": null,
      "outputs": [
        {
          "output_type": "stream",
          "name": "stdout",
          "text": [
            "Nama/t/t: Irma safa rubianti/nkelas/t/t/:10)X.10/nNo absen/t: 10\n"
          ]
        }
      ]
    },
    {
      "cell_type": "markdown",
      "source": [],
      "metadata": {
        "id": "ojHvAjdBIXvS"
      }
    },
    {
      "cell_type": "markdown",
      "source": [
        "print(\"Hallo perkenalkan nama saya\",nama,\"usia saya\",usia,\"tahun\")"
      ],
      "metadata": {
        "id": "DqTdg0HD20tH"
      }
    },
    {
      "cell_type": "markdown",
      "source": [],
      "metadata": {
        "id": "6urbvXslOW8z"
      }
    },
    {
      "cell_type": "markdown",
      "source": [],
      "metadata": {
        "id": "3QNxDWcHOWSQ"
      }
    },
    {
      "cell_type": "code",
      "source": [
        "print(\"\"\"Nama: Irma Safa rubianti\n",
        " Kelas: X.10\n",
        " No absen:10\"\"\")"
      ],
      "metadata": {
        "colab": {
          "base_uri": "https://localhost:8080/"
        },
        "id": "7XtSO6kcT59k",
        "outputId": "0973ed94-5910-4ef7-844b-f5b2426805a0"
      },
      "execution_count": null,
      "outputs": [
        {
          "output_type": "stream",
          "name": "stdout",
          "text": [
            "Nama: Irma Safa rubianti\n",
            " Kelas: X.10\n",
            " No absen:10\n"
          ]
        }
      ]
    },
    {
      "cell_type": "code",
      "source": [
        "\n",
        "nama=\"Irma safa rubianti\"\n",
        "print (nama)"
      ],
      "metadata": {
        "colab": {
          "base_uri": "https://localhost:8080/"
        },
        "id": "8vp-FDeJ4bkj",
        "outputId": "7cdb03a6-3675-4192-ae12-cf466b756e45"
      },
      "execution_count": null,
      "outputs": [
        {
          "output_type": "stream",
          "name": "stdout",
          "text": [
            "Irma safa rubianti\n"
          ]
        }
      ]
    },
    {
      "cell_type": "code",
      "source": [
        "usia = 16\n",
        "print (usia)"
      ],
      "metadata": {
        "colab": {
          "base_uri": "https://localhost:8080/"
        },
        "id": "f69HutYQ5Apu",
        "outputId": "16c083d0-918b-4e53-8ddd-0e3309f23d8e"
      },
      "execution_count": null,
      "outputs": [
        {
          "output_type": "stream",
          "name": "stdout",
          "text": [
            "16\n"
          ]
        }
      ]
    },
    {
      "cell_type": "code",
      "source": [
        "print (\"Hallo perkenalkan nama saya\",nama,\"usia saya\",usia,\" tahun\")"
      ],
      "metadata": {
        "colab": {
          "base_uri": "https://localhost:8080/"
        },
        "id": "xIF_CzpD5Kfl",
        "outputId": "63115de5-66fd-43aa-9576-7cfb726d5c6c"
      },
      "execution_count": null,
      "outputs": [
        {
          "output_type": "stream",
          "name": "stdout",
          "text": [
            "Hallo perkenalkan nama saya Irma safa rubianti usia saya 16  tahun\n"
          ]
        }
      ]
    },
    {
      "cell_type": "code",
      "source": [
        "print (f\"Hallo nama saya {nama} usia saya {usia} tahun\")"
      ],
      "metadata": {
        "colab": {
          "base_uri": "https://localhost:8080/"
        },
        "id": "W_Ru_80CEFAM",
        "outputId": "58a04a52-804b-4184-8f91-28a564d67844"
      },
      "execution_count": null,
      "outputs": [
        {
          "output_type": "stream",
          "name": "stdout",
          "text": [
            "Hallo nama saya Irma safa rubianti usia saya 16 tahun\n"
          ]
        }
      ]
    },
    {
      "cell_type": "code",
      "source": [
        "print (\"Nama\\t\\t: Irma safa rubianti/nKelas/t/t:x.10/nNo Absen/t/t:10\")"
      ],
      "metadata": {
        "colab": {
          "base_uri": "https://localhost:8080/"
        },
        "id": "hTb7LoQiHauJ",
        "outputId": "b64d9756-4cae-4280-fe89-8ead16ed7a67"
      },
      "execution_count": null,
      "outputs": [
        {
          "output_type": "stream",
          "name": "stdout",
          "text": [
            "Nama\t\t: Irma safa rubianti/nKelas/t/t:x.10/nNo Absen/t/t:10\n"
          ]
        }
      ]
    },
    {
      "cell_type": "code",
      "source": [
        "print('Ainun')"
      ],
      "metadata": {
        "colab": {
          "base_uri": "https://localhost:8080/"
        },
        "id": "k5P8T2-d5xtx",
        "outputId": "ba3f5f7d-6e47-4890-80fb-97b84953cbe0"
      },
      "execution_count": null,
      "outputs": [
        {
          "output_type": "stream",
          "name": "stdout",
          "text": [
            "Ainun\n"
          ]
        }
      ]
    },
    {
      "cell_type": "code",
      "source": [
        "print('A'inun')"
      ],
      "metadata": {
        "colab": {
          "base_uri": "https://localhost:8080/",
          "height": 141
        },
        "id": "jvR571fF6Cuz",
        "outputId": "f753b5ca-6ff0-4fd9-c976-8427b565d94f"
      },
      "execution_count": null,
      "outputs": [
        {
          "output_type": "error",
          "ename": "SyntaxError",
          "evalue": "unterminated string literal (detected at line 1) (ipython-input-2190604232.py, line 1)",
          "traceback": [
            "\u001b[0;36m  File \u001b[0;32m\"/tmp/ipython-input-2190604232.py\"\u001b[0;36m, line \u001b[0;32m1\u001b[0m\n\u001b[0;31m    print('A'inun')\u001b[0m\n\u001b[0m                 ^\u001b[0m\n\u001b[0;31mSyntaxError\u001b[0m\u001b[0;31m:\u001b[0m unterminated string literal (detected at line 1)\n"
          ]
        }
      ]
    },
    {
      "cell_type": "code",
      "source": [
        "print(\"A'inun\")"
      ],
      "metadata": {
        "colab": {
          "base_uri": "https://localhost:8080/"
        },
        "id": "X3C42TO56Lf9",
        "outputId": "280f2732-2801-4e11-a9a9-30bed111231b"
      },
      "execution_count": null,
      "outputs": [
        {
          "output_type": "stream",
          "name": "stdout",
          "text": [
            "A'inun\n"
          ]
        }
      ]
    },
    {
      "cell_type": "code",
      "source": [
        "print('A/'inun')"
      ],
      "metadata": {
        "colab": {
          "base_uri": "https://localhost:8080/",
          "height": 141
        },
        "id": "eS0AImS66Vpp",
        "outputId": "a369658e-aa75-4bec-d8dc-cf93c89b0fc8"
      },
      "execution_count": null,
      "outputs": [
        {
          "output_type": "error",
          "ename": "SyntaxError",
          "evalue": "unterminated string literal (detected at line 1) (ipython-input-2562906390.py, line 1)",
          "traceback": [
            "\u001b[0;36m  File \u001b[0;32m\"/tmp/ipython-input-2562906390.py\"\u001b[0;36m, line \u001b[0;32m1\u001b[0m\n\u001b[0;31m    print('A/'inun')\u001b[0m\n\u001b[0m                  ^\u001b[0m\n\u001b[0;31mSyntaxError\u001b[0m\u001b[0;31m:\u001b[0m unterminated string literal (detected at line 1)\n"
          ]
        }
      ]
    },
    {
      "cell_type": "code",
      "source": [
        "print (\"Bu Shinta berkata,/Makan sosis so nice\\\" \")"
      ],
      "metadata": {
        "colab": {
          "base_uri": "https://localhost:8080/"
        },
        "id": "a4ium0T96w8b",
        "outputId": "ce442ce7-4ad4-4612-e0c3-1b6b5d5f4c94"
      },
      "execution_count": null,
      "outputs": [
        {
          "output_type": "stream",
          "name": "stdout",
          "text": [
            "Bu Shinta berkata,/Makan sosis so nice\" \n"
          ]
        }
      ]
    },
    {
      "cell_type": "code",
      "source": [
        "print ('Bu Shinta berkata,\"Makan sosis so nice\" ')"
      ],
      "metadata": {
        "colab": {
          "base_uri": "https://localhost:8080/"
        },
        "id": "81nuJkDC7CeL",
        "outputId": "7813dc37-4ec2-4d5b-8508-cf8edad54368"
      },
      "execution_count": null,
      "outputs": [
        {
          "output_type": "stream",
          "name": "stdout",
          "text": [
            "Bu Shinta berkata,\"Makan sosis so nice\" \n"
          ]
        }
      ]
    },
    {
      "cell_type": "code",
      "source": [
        "print simpan file di local disk D\\\\MAN DEMAK \\\\KKA\")"
      ],
      "metadata": {
        "colab": {
          "base_uri": "https://localhost:8080/",
          "height": 193
        },
        "id": "YgfoRlaW7OSS",
        "outputId": "98c564d4-fc16-4e1a-be95-8faddf100823"
      },
      "execution_count": null,
      "outputs": [
        {
          "output_type": "error",
          "ename": "SyntaxError",
          "evalue": "unexpected character after line continuation character (ipython-input-399735520.py, line 1)",
          "traceback": [
            "\u001b[0;36m  File \u001b[0;32m\"/tmp/ipython-input-399735520.py\"\u001b[0;36m, line \u001b[0;32m1\u001b[0m\n\u001b[0;31m    print simpan file di local disk D\\\\MAN DEMAK \\\\KKA\")\u001b[0m\n\u001b[0m                                      ^\u001b[0m\n\u001b[0;31mSyntaxError\u001b[0m\u001b[0;31m:\u001b[0m unexpected character after line continuation character\n"
          ]
        }
      ]
    },
    {
      "cell_type": "code",
      "source": [
        "nama_siswa_1=\"Irma\""
      ],
      "metadata": {
        "id": "UAnMiH8lHPfc"
      },
      "execution_count": null,
      "outputs": []
    },
    {
      "cell_type": "code",
      "source": [
        "nama_siswa_2=\"safa\""
      ],
      "metadata": {
        "id": "yFPbZb52HqwO"
      },
      "execution_count": null,
      "outputs": []
    },
    {
      "cell_type": "code",
      "source": [
        "print(nama_siswa_1,nama_siswa_2)"
      ],
      "metadata": {
        "colab": {
          "base_uri": "https://localhost:8080/"
        },
        "id": "XqPfF7EHH_YO",
        "outputId": "c17957f5-92d8-4384-a93d-d922236c6f4f"
      },
      "execution_count": null,
      "outputs": [
        {
          "output_type": "stream",
          "name": "stdout",
          "text": [
            "Irma safa\n"
          ]
        }
      ]
    },
    {
      "cell_type": "markdown",
      "source": [],
      "metadata": {
        "id": "b4OPFQJxOMtY"
      }
    },
    {
      "cell_type": "code",
      "source": [
        "print(nama_siswa_1,nama_siswa_2,sep=\"_\")"
      ],
      "metadata": {
        "colab": {
          "base_uri": "https://localhost:8080/"
        },
        "id": "eKS09CynIH3c",
        "outputId": "0e3963c2-07fa-47b3-84b6-bf321fdafecd"
      },
      "execution_count": null,
      "outputs": [
        {
          "output_type": "stream",
          "name": "stdout",
          "text": [
            "Irma_safa\n"
          ]
        }
      ]
    },
    {
      "cell_type": "code",
      "source": [
        "print(nama_siswa_1, nama_siswa_2, nama_siswa_1, sep=\"*\")"
      ],
      "metadata": {
        "colab": {
          "base_uri": "https://localhost:8080/"
        },
        "id": "yal-5QVYIhf7",
        "outputId": "d67fe98a-6ee8-42e4-c0c0-b308df4bf483"
      },
      "execution_count": null,
      "outputs": [
        {
          "output_type": "stream",
          "name": "stdout",
          "text": [
            "Irma*safa*Irma\n"
          ]
        }
      ]
    },
    {
      "cell_type": "code",
      "source": [
        "print(nama_siswa_1,end=\"*\"  )\n",
        "print (nama_siswa_2)"
      ],
      "metadata": {
        "colab": {
          "base_uri": "https://localhost:8080/"
        },
        "id": "HgzYUmejLRTK",
        "outputId": "c909307a-4359-473b-b1f3-c76e3d63078e"
      },
      "execution_count": null,
      "outputs": [
        {
          "output_type": "stream",
          "name": "stdout",
          "text": [
            "Irma*safa\n"
          ]
        }
      ]
    }
  ]
}